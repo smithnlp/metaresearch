{
 "cells": [
  {
   "cell_type": "markdown",
   "metadata": {},
   "source": [
    "# meta-research\n",
    "_A toolkit for researching about research by Blake Perry Smith (2019)_"
   ]
  },
  {
   "cell_type": "markdown",
   "metadata": {},
   "source": [
    "## Instructions & Usage\n",
    "  * You don't have to be a programmer, you just have to\n",
    "    * __read the directions__ above each cell,\n",
    "    * __type in a word or two__ in the right place, and\n",
    "    * __press `SHIFT` + `ENTER`__ to see the magic!"
   ]
  },
  {
   "cell_type": "markdown",
   "metadata": {},
   "source": [
    "## Getting everything set up\n",
    "First, let's install the tool itself with all its required dependencies."
   ]
  },
  {
   "cell_type": "code",
   "execution_count": null,
   "metadata": {},
   "outputs": [],
   "source": [
    "# ! pip install metaresearch"
   ]
  },
  {
   "cell_type": "code",
   "execution_count": null,
   "metadata": {},
   "outputs": [],
   "source": [
    "import metaresearch"
   ]
  },
  {
   "cell_type": "markdown",
   "metadata": {},
   "source": [
    "## Tutorial\n",
    "### 1. Search & Save\n",
    "Think of a __term or phrase__ that you would want to search for and compile a small [corpus](https://en.wikipedia.org/wiki/Text_corpus), or body of texts, containing that term or phrase."
   ]
  },
  {
   "cell_type": "markdown",
   "metadata": {},
   "source": [
    "For example, if your discipline was sociology, you might use `sociology` as your term. To get more specific results, you could even search with a subdiscipline or keyword such as `social mobility`."
   ]
  },
  {
   "cell_type": "markdown",
   "metadata": {},
   "source": [
    "Now, substitute your term in the cell below between the single quotes where it says `your term/phrase here` and then hold `SHIFT` and then press `ENTER`. You will see the program begin to run and search various online publishers for articles, their abstracts, and their associated metadata (such as authors, publisher, and keywords) which contain your search term or phrase. As it scrapes the web for this data, it will print out the title of the article information & abstract which is being saved, line by line. This step may take 1-2 minutes."
   ]
  },
  {
   "cell_type": "code",
   "execution_count": null,
   "metadata": {},
   "outputs": [],
   "source": [
    "metaresearch.search('your term/phrase here')"
   ]
  },
  {
   "cell_type": "markdown",
   "metadata": {},
   "source": [
    "Great! So you've already compiled your first `mini-corpus`. Click back into the cell above and try entering and searching for another term or phrase in a tangential field of research. This will trigger another session of web-scraping and save another corpus to your hard drive. You can repeat this step as many times as you want, which may be of more interest to you after learning what you can do with a `mini-corpus`."
   ]
  },
  {
   "cell_type": "markdown",
   "metadata": {},
   "source": [
    "### 2. Query your mini-corpora\n",
    "This step assumes you ran step #1 at least once and compiled one or more `mini-corpora`. You can click on the cell below and then hold `SHIFT` and press `ENTER` to list the different collections of abstracts and data for each term you searched in step #1."
   ]
  },
  {
   "cell_type": "code",
   "execution_count": null,
   "metadata": {},
   "outputs": [],
   "source": [
    "metaresearch.show_corpora()"
   ]
  },
  {
   "cell_type": "markdown",
   "metadata": {},
   "source": [
    "---------------------------------------------------------------------------------------------------------------------\n",
    "### For any of the following cells, simply read the instruction above it and substitute the words and expressions relevant to your use case.\n",
    "---------------------------------------------------------------------------------------------------------------------"
   ]
  },
  {
   "cell_type": "markdown",
   "metadata": {},
   "source": [
    "#### 2.1 See who's publishing about one of your terms.\n",
    "Copy and paste the names of _one_ of your `mini-corpora` as displayed by `metaresearch.show_corpora()` above into space between the single quotes below, substituting where it says `your mini-corpus name here`. Then `SHIFT` + `ENTER` will return a list of all the authors in your `mini-corpus`."
   ]
  },
  {
   "cell_type": "code",
   "execution_count": null,
   "metadata": {},
   "outputs": [],
   "source": [
    "metaresearch.list_authors('your mini-corpus name here')"
   ]
  },
  {
   "cell_type": "markdown",
   "metadata": {},
   "source": [
    "#### 2.2 See who's publishing about _two_ of your terms.\n",
    "Copy and paste the names of __two__ of your `mini-corpora` as displayed by `metaresearch.show_corpora()` above into the slots in the cell below. The idea here is to see if there are any authors who overlap in the results of two different search terms. You could think of this as finding those who research at the intersection of the two fields or subdisciplines. This may give ideas to go back and compile new `mini-corpora` for better and more interesting results. Again, `SHIFT` + `ENTER` to see if any authors overlap."
   ]
  },
  {
   "cell_type": "code",
   "execution_count": null,
   "metadata": {},
   "outputs": [],
   "source": [
    "metaresearch.compare_authors('mini-corpus name one', 'mini-corpus name two')"
   ]
  },
  {
   "cell_type": "markdown",
   "metadata": {},
   "source": [
    "#### 2.3 See all articles authored by a single person across all mini-corpora.\n",
    "Copy and paste anyone's name from the results of either of the last two examples into the slot in the cell below to get the titles of all their articles which you have collected. Don't forget to `SHIFT` + `ENTER`."
   ]
  },
  {
   "cell_type": "code",
   "execution_count": null,
   "metadata": {},
   "outputs": [],
   "source": [
    "metaresearch.authored_by('Isaac Newton')"
   ]
  },
  {
   "cell_type": "markdown",
   "metadata": {},
   "source": [
    "#### 2.4 Show the full info for a specific article.\n",
    "Copy and paste either the beginning few words or the entire title of an article returned by the previous example. Then `SHIFT` + `ENTER` to see all its associated metadata and abstract text."
   ]
  },
  {
   "cell_type": "code",
   "execution_count": null,
   "metadata": {},
   "outputs": [],
   "source": [
    "metaresearch.article_info('Scientific Study: a Journey across time and')"
   ]
  },
  {
   "cell_type": "markdown",
   "metadata": {},
   "source": [
    "#### 2.5 Use keywords analysis to reveal what is unique about one mini-corpus compared to another.\n",
    "Copy and paste the `mini-corp` name for which you want to find keywords into the `corpus of interest` slot. Then copy and paste the name of another which you want to compare it against into the slot for `comparison corpus`. This can be a really great way to learn about what's unique about one field versus another, especially for tangentially related disciplines. For example, if you have scraped and compiled `mini-corps` for `computational linguistics` and `natural language processing`, you could plug those corpus names in to find out what distinguishes the first from the second, then rerun it with the order reversed to find out what differentiates the second from the first."
   ]
  },
  {
   "cell_type": "code",
   "execution_count": null,
   "metadata": {},
   "outputs": [],
   "source": [
    "metaresearch.get_keywords('name of corpus of interest', 'comparison corpus name')"
   ]
  },
  {
   "cell_type": "markdown",
   "metadata": {},
   "source": [
    "---------------------------------------------------------------------------------------------------------------------\n",
    "### Tips & Thoughts\n",
    "* Remember to copy and paste wherever possible to avoid spelling mistakes (which will cause an error). For example, anywhere that asks for a corpus name, copy it directly from the output of `metaresearch.show_corpora()`.\n",
    "* Also, don't forget to re-run the cells with different search terms. In the case of `2.5`, even just switching the order of the corpus names is very insightful.\n",
    "* Hopefully this seems useful to you in your search to __learn more__ about any given research discipline, __decide what to study__ next, __discover new or important trends__ in your field, or even __find new collaborators__ on niche topics."
   ]
  },
  {
   "cell_type": "markdown",
   "metadata": {},
   "source": [
    "---------------------------------------------------------------------------------------------------------------------\n",
    "### Exporting, Saving, and Cleaning up.\n",
    "This is where you can export your `mini-corpora` into .csv or .xlsx files and delete any large files we may have created using the tool."
   ]
  }
 ],
 "metadata": {
  "kernelspec": {
   "display_name": "Python 3",
   "language": "python",
   "name": "python3"
  },
  "language_info": {
   "codemirror_mode": {
    "name": "ipython",
    "version": 3
   },
   "file_extension": ".py",
   "mimetype": "text/x-python",
   "name": "python",
   "nbconvert_exporter": "python",
   "pygments_lexer": "ipython3",
   "version": "3.7.1"
  }
 },
 "nbformat": 4,
 "nbformat_minor": 2
}
